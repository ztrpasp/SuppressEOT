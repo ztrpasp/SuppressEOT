{
 "cells": [
  {
   "cell_type": "code",
   "outputs": [],
   "source": [
    "from typing import Optional, List\n",
    "from tqdm import tqdm\n",
    "import torch\n",
    "from diffusers import StableDiffusionPipeline, DDIMScheduler\n",
    "import numpy as np\n",
    "import abc\n",
    "import time\n",
    "from PIL import Image\n",
    "import os\n",
    "import argparse\n",
    "import ast\n",
    "\n",
    "from utils import ptp_utils, wo_utils\n",
    "from utils.null_text_inversion import NullInversion\n",
    "from losses.attn_loss import AttnLoss"
   ],
   "metadata": {
    "collapsed": false,
    "ExecuteTime": {
     "end_time": "2024-03-04T08:10:46.875910Z",
     "start_time": "2024-03-04T08:10:44.145584Z"
    }
   },
   "id": "590d6c3fca7d7c9d",
   "execution_count": 1
  },
  {
   "cell_type": "code",
   "outputs": [],
   "source": [
    "token_indices=[[4,5],[6],[7]]\n",
    "cross_retain_steps=[.2,]\n",
    "alpha=[1.,]"
   ],
   "metadata": {
    "collapsed": false,
    "ExecuteTime": {
     "end_time": "2024-03-19T13:29:33.477362Z",
     "start_time": "2024-03-19T13:29:33.467362Z"
    }
   },
   "id": "1a5868dbfe7ad30e",
   "execution_count": 1
  },
  {
   "cell_type": "code",
   "outputs": [
    {
     "name": "stdout",
     "output_type": "stream",
     "text": [
      "|----------Suppress EOT (Generated-Image): token_indices=[4, 5], alpha=1.0, cross_retain_steps(1-tau)=0.2----------|\n",
      "|----------Suppress EOT (Generated-Image): token_indices=[6], alpha=1.0, cross_retain_steps(1-tau)=0.2----------|\n",
      "|----------Suppress EOT (Generated-Image): token_indices=[7], alpha=1.0, cross_retain_steps(1-tau)=0.2----------|\n"
     ]
    }
   ],
   "source": [
    "for token in token_indices:\n",
    "    for cross in cross_retain_steps:\n",
    "        for al in alpha:\n",
    "            print(f'|----------Suppress EOT (Generated-Image): token_indices={token}, alpha={al}, cross_retain_steps(1-tau)={cross}----------|')"
   ],
   "metadata": {
    "collapsed": false,
    "ExecuteTime": {
     "end_time": "2024-03-19T13:29:33.493363Z",
     "start_time": "2024-03-19T13:29:33.479363Z"
    }
   },
   "id": "99cd2881c6326492",
   "execution_count": 2
  },
  {
   "cell_type": "code",
   "outputs": [],
   "source": [],
   "metadata": {
    "collapsed": false,
    "ExecuteTime": {
     "end_time": "2024-03-11T12:48:24.554953Z",
     "start_time": "2024-03-11T12:48:24.539998Z"
    }
   },
   "id": "4c16bc66af456533",
   "execution_count": 2
  },
  {
   "cell_type": "code",
   "outputs": [],
   "source": [
    "pbar = tqdm(model.scheduler.timesteps[-start_time:], desc='Suppress EOT', ncols=100, colour=\"red\")"
   ],
   "metadata": {
    "collapsed": false
   },
   "id": "d2da952f516cb71c"
  }
 ],
 "metadata": {
  "kernelspec": {
   "display_name": "Python 3",
   "language": "python",
   "name": "python3"
  },
  "language_info": {
   "codemirror_mode": {
    "name": "ipython",
    "version": 2
   },
   "file_extension": ".py",
   "mimetype": "text/x-python",
   "name": "python",
   "nbconvert_exporter": "python",
   "pygments_lexer": "ipython2",
   "version": "2.7.6"
  }
 },
 "nbformat": 4,
 "nbformat_minor": 5
}
